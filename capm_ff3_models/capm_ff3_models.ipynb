{
 "cells": [
  {
   "cell_type": "markdown",
   "id": "ea755c6c",
   "metadata": {},
   "source": [
    "**PROJECT DESCRIPTION**"
   ]
  },
  {
   "cell_type": "markdown",
   "id": "c41a7dc1",
   "metadata": {},
   "source": [
    "We would like to reproduce the research conducted by PhD students of the National University Ho Chi Minh. Research is focuing on Applying Fama and French Three Factors Model and Capital Asset Pricing Model in the Stock Exchange of Vietnam.\n",
    "\n",
    "https://www.researchgate.net/publication/265152344_Applying_Fama_and_French_Three_Factors_Model_and_Capital_Asset_Pricing_Model_in_the_Stock_Exchange_of_Vietnam"
   ]
  },
  {
   "attachments": {},
   "cell_type": "markdown",
   "id": "bbaab19e",
   "metadata": {},
   "source": [
    "**THEORETICAL BACKGROUND (SOURCE: CFA CIRRICULUM, LEVEL 2, 2019)**\n",
    "\n",
    "In capital market theory, taking on a higher degree of unsystematic risk will not be compensated with a higher return because unsystematic risk can be estimated, without additional cost, through diversification. Only if an investor takes on a higher level of risk that cannot be easily diversified away should she expect to be rewarded in the form of higher return. Systemic risk is measured as the contribution of a security to the risk of a well-diversified portfolio. \n",
    "This conclusion has very important implications for asset pricing and expected returns. If risk is measured in terms of the standard deviation of returns of stock, the riskiest stock will not necessarily have the highest expected return.\n",
    "\n",
    "In the CAPM, as asset’s non-diversifiable or systematic risk is positively related to its beta. Further, the CAPM asserts that differences in expected returns across assets can be explained by a single factor, the return on the market portfolio. The higher the assets’ beta risk (or sensitivity to the market), the higher its expected return.\n",
    "CAPM is a single-index model that is widely used to estimate returns given security betas. According to CAPM, required return on stock is equal risk free-rate added to excess of market return which is scaled by beta estimate."
   ]
  },
  {
   "cell_type": "markdown",
   "id": "d53e5784",
   "metadata": {},
   "source": [
    "$\\Large R_{i} = R_{f}+\\beta_{i,mkt}(R_{m}-R_{f}) $"
   ]
  },
  {
   "cell_type": "markdown",
   "id": "28a291ad",
   "metadata": {},
   "source": [
    "Differences in expected returns on different assets usually cannot be explained by just single market factor. This limitation is partially address by multifactor models like Fama and French models, Pastor-Stambaugh model, Carhart model etc.\n",
    "\n",
    "The FF3 model attempts to account for other factors that are missed in CAPM."
   ]
  },
  {
   "cell_type": "markdown",
   "id": "01403a24",
   "metadata": {},
   "source": [
    "$\\Large R_{i} = R_{f}+\\beta_{i,mkt}(R_{m}-R_{f})+\\beta_{i,SMB}(SMB)+\\beta_{i,HML}(HML) $"
   ]
  },
  {
   "cell_type": "markdown",
   "id": "7eab82ed",
   "metadata": {},
   "source": [
    "The FF3 model considers the following factors:\n",
    "-\tEquity risk premium. The FF3 model shares this factor with CAPM. The equity risk premium is calculated as the difference between the return on a value-weighted market index and the risk-free rate. The baseline value for the market beta is 1.\n",
    "-\tSmall cap return premium (SMB). This factor accounts for differences in company market capitalizations. It is estimated as the difference between average return on three small-cap portfolios and the average return on three large-cap portfolios. The baseline value for the size beta is zero. It is usually positive for small-cap stocks. The smaller the company, the greater the required return.\n",
    "-\tValue return premium (HML). This factor accounts for differences in returns on value stocks and growth stocks. It is estimated as the difference between the average return on two high book-to-market portfolios (that represent a value bias) and the average return on two low book-to-market portfolios (that represent a growth bias). The baseline value for value of beta is zero. It is usually positive for stocks with high book-to-market ratios. The higher the ratio of book-to-market, the greater the required return.\n"
   ]
  },
  {
   "cell_type": "markdown",
   "id": "ee0eef6d",
   "metadata": {},
   "source": [
    "**PORTFOLIOS AND FACTORS CREATION**\n",
    "\n",
    "\n",
    "Most of publicly available databases don’t allow for the bulk download of necessary data. Therefore, the solution was to develop web-scrapping algorithm that would allow to extract series for all companies that were or are listed on Warsaw stock exchange in one attempt. Following web sources were sued for data extraction: www.bankier.pl, www.stooq.pl. Scrapped series are as of quarterly frequency and span from Q2 1991 till Q1 2022. The final dataset includes 273 polish companies. "
   ]
  },
  {
   "cell_type": "markdown",
   "id": "4f25e8cb",
   "metadata": {},
   "source": [
    "First, stocks are sorted every quarter by market value size and split into small (S) and big (B) groups, where S group contains stocks with market value below mean value of the population and B group contains stocks with market value above mean value of the population.\n",
    "S and B values are assigned to each observation every quarter as per below:"
   ]
  },
  {
   "cell_type": "code",
   "execution_count": 1,
   "id": "4340035a",
   "metadata": {},
   "outputs": [],
   "source": [
    "import os\n",
    "import pandas as pd\n",
    "import statsmodels.formula.api as smf\n",
    "from statsmodels.tsa.stattools import adfuller\n",
    "import numpy\n",
    "\n",
    "os.chdir('C:\\\\Users\\\\zymin\\\\Downloads')\n",
    "cwd = os.getcwd()"
   ]
  },
  {
   "cell_type": "code",
   "execution_count": 2,
   "id": "e61858d1",
   "metadata": {},
   "outputs": [],
   "source": [
    "df = pd.read_csv('final_df_short_ret_clean.csv')\n",
    "df.set_index(['period'], drop=True, append=False, inplace=True, verify_integrity=False)\n",
    "df.index = pd.to_datetime(df.index, format = '%d/%m/%Y')\n",
    "df = df.sort_values(by = ['period', 'Market_value'], ascending = [False, True])\n",
    "rf = pd.read_csv('rf.csv')\n",
    "rf.set_index(['period'], drop=True, append=False, inplace=True, verify_integrity=False)\n",
    "rf.index = pd.to_datetime(rf.index, format = '%d/%m/%Y')"
   ]
  },
  {
   "cell_type": "code",
   "execution_count": 3,
   "id": "f6635c29",
   "metadata": {},
   "outputs": [
    {
     "data": {
      "text/html": [
       "<div>\n",
       "<style scoped>\n",
       "    .dataframe tbody tr th:only-of-type {\n",
       "        vertical-align: middle;\n",
       "    }\n",
       "\n",
       "    .dataframe tbody tr th {\n",
       "        vertical-align: top;\n",
       "    }\n",
       "\n",
       "    .dataframe thead th {\n",
       "        text-align: right;\n",
       "    }\n",
       "</style>\n",
       "<table border=\"1\" class=\"dataframe\">\n",
       "  <thead>\n",
       "    <tr style=\"text-align: right;\">\n",
       "      <th></th>\n",
       "      <th>Ticker</th>\n",
       "      <th>close</th>\n",
       "      <th>perc_change</th>\n",
       "      <th>close_wig</th>\n",
       "      <th>perc_change_wig</th>\n",
       "      <th>Assets</th>\n",
       "      <th>Number of shares</th>\n",
       "      <th>Market_value</th>\n",
       "      <th>market_value_SB</th>\n",
       "    </tr>\n",
       "    <tr>\n",
       "      <th>period</th>\n",
       "      <th></th>\n",
       "      <th></th>\n",
       "      <th></th>\n",
       "      <th></th>\n",
       "      <th></th>\n",
       "      <th></th>\n",
       "      <th></th>\n",
       "      <th></th>\n",
       "      <th></th>\n",
       "    </tr>\n",
       "  </thead>\n",
       "  <tbody>\n",
       "    <tr>\n",
       "      <th>2021-12-31</th>\n",
       "      <td>SHD</td>\n",
       "      <td>0.41</td>\n",
       "      <td>-0.16</td>\n",
       "      <td>69296.26</td>\n",
       "      <td>-0.01</td>\n",
       "      <td>25412000</td>\n",
       "      <td>27,530,111</td>\n",
       "      <td>11287345.51</td>\n",
       "      <td>S</td>\n",
       "    </tr>\n",
       "    <tr>\n",
       "      <th>2021-12-31</th>\n",
       "      <td>BCM</td>\n",
       "      <td>6.40</td>\n",
       "      <td>-0.20</td>\n",
       "      <td>69296.26</td>\n",
       "      <td>-0.01</td>\n",
       "      <td>45942000</td>\n",
       "      <td>2,020,000</td>\n",
       "      <td>12928000.00</td>\n",
       "      <td>S</td>\n",
       "    </tr>\n",
       "    <tr>\n",
       "      <th>2021-12-31</th>\n",
       "      <td>CPL</td>\n",
       "      <td>6.20</td>\n",
       "      <td>-0.09</td>\n",
       "      <td>69296.26</td>\n",
       "      <td>-0.01</td>\n",
       "      <td>37868000</td>\n",
       "      <td>3,539,547</td>\n",
       "      <td>21945191.40</td>\n",
       "      <td>S</td>\n",
       "    </tr>\n",
       "    <tr>\n",
       "      <th>2021-12-31</th>\n",
       "      <td>PAT</td>\n",
       "      <td>1.10</td>\n",
       "      <td>-0.30</td>\n",
       "      <td>69296.26</td>\n",
       "      <td>-0.01</td>\n",
       "      <td>136263000</td>\n",
       "      <td>29,500,000</td>\n",
       "      <td>32450000.00</td>\n",
       "      <td>S</td>\n",
       "    </tr>\n",
       "    <tr>\n",
       "      <th>2021-12-31</th>\n",
       "      <td>IPO</td>\n",
       "      <td>1.10</td>\n",
       "      <td>-0.11</td>\n",
       "      <td>69296.26</td>\n",
       "      <td>-0.01</td>\n",
       "      <td>124246000</td>\n",
       "      <td>34,130,700</td>\n",
       "      <td>37543770.00</td>\n",
       "      <td>S</td>\n",
       "    </tr>\n",
       "  </tbody>\n",
       "</table>\n",
       "</div>"
      ],
      "text/plain": [
       "           Ticker  close  perc_change  close_wig  perc_change_wig     Assets  \\\n",
       "period                                                                         \n",
       "2021-12-31    SHD   0.41        -0.16   69296.26            -0.01   25412000   \n",
       "2021-12-31    BCM   6.40        -0.20   69296.26            -0.01   45942000   \n",
       "2021-12-31    CPL   6.20        -0.09   69296.26            -0.01   37868000   \n",
       "2021-12-31    PAT   1.10        -0.30   69296.26            -0.01  136263000   \n",
       "2021-12-31    IPO   1.10        -0.11   69296.26            -0.01  124246000   \n",
       "\n",
       "           Number of shares  Market_value market_value_SB  \n",
       "period                                                     \n",
       "2021-12-31       27,530,111   11287345.51               S  \n",
       "2021-12-31        2,020,000   12928000.00               S  \n",
       "2021-12-31        3,539,547   21945191.40               S  \n",
       "2021-12-31       29,500,000   32450000.00               S  \n",
       "2021-12-31       34,130,700   37543770.00               S  "
      ]
     },
     "execution_count": 3,
     "metadata": {},
     "output_type": "execute_result"
    }
   ],
   "source": [
    "df['market_value_SB'] = pd.qcut(df['Market_value'], q=2, labels = ['S', 'B'])\n",
    "df.head()"
   ]
  },
  {
   "cell_type": "code",
   "execution_count": 4,
   "id": "15d59728",
   "metadata": {},
   "outputs": [
    {
     "data": {
      "text/plain": [
       "Ticker                object\n",
       "close                float64\n",
       "perc_change          float64\n",
       "close_wig            float64\n",
       "perc_change_wig      float64\n",
       "Assets                 int64\n",
       "Number of shares      object\n",
       "Market_value         float64\n",
       "market_value_SB     category\n",
       "dtype: object"
      ]
     },
     "execution_count": 4,
     "metadata": {},
     "output_type": "execute_result"
    }
   ],
   "source": [
    "df.dtypes"
   ]
  },
  {
   "cell_type": "code",
   "execution_count": 5,
   "id": "ee73e167",
   "metadata": {},
   "outputs": [
    {
     "data": {
      "text/plain": [
       "Ticker                object\n",
       "close                float64\n",
       "perc_change          float64\n",
       "close_wig            float64\n",
       "perc_change_wig      float64\n",
       "Assets               float64\n",
       "Number of shares      object\n",
       "Market_value         float64\n",
       "market_value_SB     category\n",
       "dtype: object"
      ]
     },
     "execution_count": 5,
     "metadata": {},
     "output_type": "execute_result"
    }
   ],
   "source": [
    "df['Assets']  = df['Assets'].astype(float)\n",
    "df.dtypes"
   ]
  },
  {
   "cell_type": "markdown",
   "id": "0c7135c7",
   "metadata": {},
   "source": [
    "Subsequently book to market ratio must be calculated for each observation with each B and S groups. This is done by just dividing assets column by market value column. Once book to market ratio is obtained stocks are again sorted within B and S groups and then consequently split and grouped into three subgroups based on book to market ration. Stocks that compose group with 30% highest book to market ratio are assigned with value H, stocks that compose group with 30% lowest book to market ratio are assigned with value L, and those that are within the middle 30% group are assigned with value M. Using such approach every quarter stocks are divided in S and B groups, and then within each S and B groups they are subdivided into 3 subgroups, namely H, M, L, based on their book to market ratio. As a result, every quarter we obtain 6 portfolios of stocks with each observation having an assigned value of S or B and H, M or L as per below:"
   ]
  },
  {
   "cell_type": "code",
   "execution_count": 6,
   "id": "bd727944",
   "metadata": {},
   "outputs": [
    {
     "data": {
      "text/html": [
       "<div>\n",
       "<style scoped>\n",
       "    .dataframe tbody tr th:only-of-type {\n",
       "        vertical-align: middle;\n",
       "    }\n",
       "\n",
       "    .dataframe tbody tr th {\n",
       "        vertical-align: top;\n",
       "    }\n",
       "\n",
       "    .dataframe thead th {\n",
       "        text-align: right;\n",
       "    }\n",
       "</style>\n",
       "<table border=\"1\" class=\"dataframe\">\n",
       "  <thead>\n",
       "    <tr style=\"text-align: right;\">\n",
       "      <th></th>\n",
       "      <th>Ticker</th>\n",
       "      <th>close</th>\n",
       "      <th>perc_change</th>\n",
       "      <th>close_wig</th>\n",
       "      <th>perc_change_wig</th>\n",
       "      <th>Assets</th>\n",
       "      <th>Number of shares</th>\n",
       "      <th>Market_value</th>\n",
       "      <th>market_value_SB</th>\n",
       "      <th>B/M</th>\n",
       "    </tr>\n",
       "    <tr>\n",
       "      <th>period</th>\n",
       "      <th></th>\n",
       "      <th></th>\n",
       "      <th></th>\n",
       "      <th></th>\n",
       "      <th></th>\n",
       "      <th></th>\n",
       "      <th></th>\n",
       "      <th></th>\n",
       "      <th></th>\n",
       "      <th></th>\n",
       "    </tr>\n",
       "  </thead>\n",
       "  <tbody>\n",
       "    <tr>\n",
       "      <th>2021-12-31</th>\n",
       "      <td>SHD</td>\n",
       "      <td>0.41</td>\n",
       "      <td>-0.16</td>\n",
       "      <td>69296.26</td>\n",
       "      <td>-0.01</td>\n",
       "      <td>25412000.0</td>\n",
       "      <td>27,530,111</td>\n",
       "      <td>11287345.51</td>\n",
       "      <td>S</td>\n",
       "      <td>2.251371</td>\n",
       "    </tr>\n",
       "    <tr>\n",
       "      <th>2021-12-31</th>\n",
       "      <td>BCM</td>\n",
       "      <td>6.40</td>\n",
       "      <td>-0.20</td>\n",
       "      <td>69296.26</td>\n",
       "      <td>-0.01</td>\n",
       "      <td>45942000.0</td>\n",
       "      <td>2,020,000</td>\n",
       "      <td>12928000.00</td>\n",
       "      <td>S</td>\n",
       "      <td>3.553682</td>\n",
       "    </tr>\n",
       "    <tr>\n",
       "      <th>2021-12-31</th>\n",
       "      <td>CPL</td>\n",
       "      <td>6.20</td>\n",
       "      <td>-0.09</td>\n",
       "      <td>69296.26</td>\n",
       "      <td>-0.01</td>\n",
       "      <td>37868000.0</td>\n",
       "      <td>3,539,547</td>\n",
       "      <td>21945191.40</td>\n",
       "      <td>S</td>\n",
       "      <td>1.725572</td>\n",
       "    </tr>\n",
       "    <tr>\n",
       "      <th>2021-12-31</th>\n",
       "      <td>PAT</td>\n",
       "      <td>1.10</td>\n",
       "      <td>-0.30</td>\n",
       "      <td>69296.26</td>\n",
       "      <td>-0.01</td>\n",
       "      <td>136263000.0</td>\n",
       "      <td>29,500,000</td>\n",
       "      <td>32450000.00</td>\n",
       "      <td>S</td>\n",
       "      <td>4.199168</td>\n",
       "    </tr>\n",
       "    <tr>\n",
       "      <th>2021-12-31</th>\n",
       "      <td>IPO</td>\n",
       "      <td>1.10</td>\n",
       "      <td>-0.11</td>\n",
       "      <td>69296.26</td>\n",
       "      <td>-0.01</td>\n",
       "      <td>124246000.0</td>\n",
       "      <td>34,130,700</td>\n",
       "      <td>37543770.00</td>\n",
       "      <td>S</td>\n",
       "      <td>3.309364</td>\n",
       "    </tr>\n",
       "  </tbody>\n",
       "</table>\n",
       "</div>"
      ],
      "text/plain": [
       "           Ticker  close  perc_change  close_wig  perc_change_wig  \\\n",
       "period                                                              \n",
       "2021-12-31    SHD   0.41        -0.16   69296.26            -0.01   \n",
       "2021-12-31    BCM   6.40        -0.20   69296.26            -0.01   \n",
       "2021-12-31    CPL   6.20        -0.09   69296.26            -0.01   \n",
       "2021-12-31    PAT   1.10        -0.30   69296.26            -0.01   \n",
       "2021-12-31    IPO   1.10        -0.11   69296.26            -0.01   \n",
       "\n",
       "                 Assets Number of shares  Market_value market_value_SB  \\\n",
       "period                                                                   \n",
       "2021-12-31   25412000.0       27,530,111   11287345.51               S   \n",
       "2021-12-31   45942000.0        2,020,000   12928000.00               S   \n",
       "2021-12-31   37868000.0        3,539,547   21945191.40               S   \n",
       "2021-12-31  136263000.0       29,500,000   32450000.00               S   \n",
       "2021-12-31  124246000.0       34,130,700   37543770.00               S   \n",
       "\n",
       "                 B/M  \n",
       "period                \n",
       "2021-12-31  2.251371  \n",
       "2021-12-31  3.553682  \n",
       "2021-12-31  1.725572  \n",
       "2021-12-31  4.199168  \n",
       "2021-12-31  3.309364  "
      ]
     },
     "execution_count": 6,
     "metadata": {},
     "output_type": "execute_result"
    }
   ],
   "source": [
    "df['B/M'] = df['Assets']/df['Market_value']\n",
    "df.head()"
   ]
  },
  {
   "cell_type": "code",
   "execution_count": 7,
   "id": "3e349531",
   "metadata": {},
   "outputs": [
    {
     "data": {
      "text/html": [
       "<div>\n",
       "<style scoped>\n",
       "    .dataframe tbody tr th:only-of-type {\n",
       "        vertical-align: middle;\n",
       "    }\n",
       "\n",
       "    .dataframe tbody tr th {\n",
       "        vertical-align: top;\n",
       "    }\n",
       "\n",
       "    .dataframe thead th {\n",
       "        text-align: right;\n",
       "    }\n",
       "</style>\n",
       "<table border=\"1\" class=\"dataframe\">\n",
       "  <thead>\n",
       "    <tr style=\"text-align: right;\">\n",
       "      <th></th>\n",
       "      <th>Ticker</th>\n",
       "      <th>close</th>\n",
       "      <th>perc_change</th>\n",
       "      <th>close_wig</th>\n",
       "      <th>perc_change_wig</th>\n",
       "      <th>Assets</th>\n",
       "      <th>Number of shares</th>\n",
       "      <th>Market_value</th>\n",
       "      <th>market_value_SB</th>\n",
       "      <th>B/M</th>\n",
       "    </tr>\n",
       "    <tr>\n",
       "      <th>period</th>\n",
       "      <th></th>\n",
       "      <th></th>\n",
       "      <th></th>\n",
       "      <th></th>\n",
       "      <th></th>\n",
       "      <th></th>\n",
       "      <th></th>\n",
       "      <th></th>\n",
       "      <th></th>\n",
       "      <th></th>\n",
       "    </tr>\n",
       "  </thead>\n",
       "  <tbody>\n",
       "    <tr>\n",
       "      <th>1998-03-31</th>\n",
       "      <td>BRS</td>\n",
       "      <td>0.0826</td>\n",
       "      <td>-0.34</td>\n",
       "      <td>16864.0</td>\n",
       "      <td>0.15</td>\n",
       "      <td>61452000.0</td>\n",
       "      <td>11,221,300</td>\n",
       "      <td>926879.380</td>\n",
       "      <td>S</td>\n",
       "      <td>66.299889</td>\n",
       "    </tr>\n",
       "    <tr>\n",
       "      <th>1998-03-31</th>\n",
       "      <td>EKP</td>\n",
       "      <td>0.7490</td>\n",
       "      <td>0.51</td>\n",
       "      <td>16864.0</td>\n",
       "      <td>0.15</td>\n",
       "      <td>15667000.0</td>\n",
       "      <td>4,024,475</td>\n",
       "      <td>3014331.775</td>\n",
       "      <td>S</td>\n",
       "      <td>5.197504</td>\n",
       "    </tr>\n",
       "    <tr>\n",
       "      <th>1998-03-31</th>\n",
       "      <td>RLP</td>\n",
       "      <td>6.5000</td>\n",
       "      <td>-0.01</td>\n",
       "      <td>16864.0</td>\n",
       "      <td>0.15</td>\n",
       "      <td>72512000.0</td>\n",
       "      <td>976666</td>\n",
       "      <td>6348329.000</td>\n",
       "      <td>S</td>\n",
       "      <td>11.422218</td>\n",
       "    </tr>\n",
       "    <tr>\n",
       "      <th>1998-03-31</th>\n",
       "      <td>WIK</td>\n",
       "      <td>4.9700</td>\n",
       "      <td>-0.07</td>\n",
       "      <td>16864.0</td>\n",
       "      <td>0.15</td>\n",
       "      <td>23259000.0</td>\n",
       "      <td>1,891,825</td>\n",
       "      <td>9402370.250</td>\n",
       "      <td>S</td>\n",
       "      <td>2.473738</td>\n",
       "    </tr>\n",
       "    <tr>\n",
       "      <th>1998-03-31</th>\n",
       "      <td>LBW</td>\n",
       "      <td>0.3470</td>\n",
       "      <td>-0.14</td>\n",
       "      <td>16864.0</td>\n",
       "      <td>0.15</td>\n",
       "      <td>25991000.0</td>\n",
       "      <td>28,000,000</td>\n",
       "      <td>9716000.000</td>\n",
       "      <td>S</td>\n",
       "      <td>2.675072</td>\n",
       "    </tr>\n",
       "  </tbody>\n",
       "</table>\n",
       "</div>"
      ],
      "text/plain": [
       "           Ticker   close  perc_change  close_wig  perc_change_wig  \\\n",
       "period                                                               \n",
       "1998-03-31    BRS  0.0826        -0.34    16864.0             0.15   \n",
       "1998-03-31    EKP  0.7490         0.51    16864.0             0.15   \n",
       "1998-03-31    RLP  6.5000        -0.01    16864.0             0.15   \n",
       "1998-03-31    WIK  4.9700        -0.07    16864.0             0.15   \n",
       "1998-03-31    LBW  0.3470        -0.14    16864.0             0.15   \n",
       "\n",
       "                Assets Number of shares  Market_value market_value_SB  \\\n",
       "period                                                                  \n",
       "1998-03-31  61452000.0       11,221,300    926879.380               S   \n",
       "1998-03-31  15667000.0        4,024,475   3014331.775               S   \n",
       "1998-03-31  72512000.0           976666   6348329.000               S   \n",
       "1998-03-31  23259000.0        1,891,825   9402370.250               S   \n",
       "1998-03-31  25991000.0       28,000,000   9716000.000               S   \n",
       "\n",
       "                  B/M  \n",
       "period                 \n",
       "1998-03-31  66.299889  \n",
       "1998-03-31   5.197504  \n",
       "1998-03-31  11.422218  \n",
       "1998-03-31   2.473738  \n",
       "1998-03-31   2.675072  "
      ]
     },
     "execution_count": 7,
     "metadata": {},
     "output_type": "execute_result"
    }
   ],
   "source": [
    "df = df.sort_values(by = ['period', 'Market_value', 'B/M'], ascending = [True, True,True])\n",
    "df.head()"
   ]
  },
  {
   "cell_type": "code",
   "execution_count": 8,
   "id": "e84c9823",
   "metadata": {},
   "outputs": [
    {
     "data": {
      "text/html": [
       "<div>\n",
       "<style scoped>\n",
       "    .dataframe tbody tr th:only-of-type {\n",
       "        vertical-align: middle;\n",
       "    }\n",
       "\n",
       "    .dataframe tbody tr th {\n",
       "        vertical-align: top;\n",
       "    }\n",
       "\n",
       "    .dataframe thead th {\n",
       "        text-align: right;\n",
       "    }\n",
       "</style>\n",
       "<table border=\"1\" class=\"dataframe\">\n",
       "  <thead>\n",
       "    <tr style=\"text-align: right;\">\n",
       "      <th></th>\n",
       "      <th>Ticker</th>\n",
       "      <th>close</th>\n",
       "      <th>perc_change</th>\n",
       "      <th>close_wig</th>\n",
       "      <th>perc_change_wig</th>\n",
       "      <th>Assets</th>\n",
       "      <th>Number of shares</th>\n",
       "      <th>Market_value</th>\n",
       "      <th>market_value_SB</th>\n",
       "      <th>B/M</th>\n",
       "      <th>B/M_LMH</th>\n",
       "    </tr>\n",
       "    <tr>\n",
       "      <th>period</th>\n",
       "      <th></th>\n",
       "      <th></th>\n",
       "      <th></th>\n",
       "      <th></th>\n",
       "      <th></th>\n",
       "      <th></th>\n",
       "      <th></th>\n",
       "      <th></th>\n",
       "      <th></th>\n",
       "      <th></th>\n",
       "      <th></th>\n",
       "    </tr>\n",
       "  </thead>\n",
       "  <tbody>\n",
       "    <tr>\n",
       "      <th>1998-03-31</th>\n",
       "      <td>BRS</td>\n",
       "      <td>0.0826</td>\n",
       "      <td>-0.34</td>\n",
       "      <td>16864.0</td>\n",
       "      <td>0.15</td>\n",
       "      <td>61452000.0</td>\n",
       "      <td>11,221,300</td>\n",
       "      <td>926879.380</td>\n",
       "      <td>S</td>\n",
       "      <td>66.299889</td>\n",
       "      <td>H</td>\n",
       "    </tr>\n",
       "    <tr>\n",
       "      <th>1998-03-31</th>\n",
       "      <td>EKP</td>\n",
       "      <td>0.7490</td>\n",
       "      <td>0.51</td>\n",
       "      <td>16864.0</td>\n",
       "      <td>0.15</td>\n",
       "      <td>15667000.0</td>\n",
       "      <td>4,024,475</td>\n",
       "      <td>3014331.775</td>\n",
       "      <td>S</td>\n",
       "      <td>5.197504</td>\n",
       "      <td>H</td>\n",
       "    </tr>\n",
       "    <tr>\n",
       "      <th>1998-03-31</th>\n",
       "      <td>RLP</td>\n",
       "      <td>6.5000</td>\n",
       "      <td>-0.01</td>\n",
       "      <td>16864.0</td>\n",
       "      <td>0.15</td>\n",
       "      <td>72512000.0</td>\n",
       "      <td>976666</td>\n",
       "      <td>6348329.000</td>\n",
       "      <td>S</td>\n",
       "      <td>11.422218</td>\n",
       "      <td>H</td>\n",
       "    </tr>\n",
       "    <tr>\n",
       "      <th>1998-03-31</th>\n",
       "      <td>WIK</td>\n",
       "      <td>4.9700</td>\n",
       "      <td>-0.07</td>\n",
       "      <td>16864.0</td>\n",
       "      <td>0.15</td>\n",
       "      <td>23259000.0</td>\n",
       "      <td>1,891,825</td>\n",
       "      <td>9402370.250</td>\n",
       "      <td>S</td>\n",
       "      <td>2.473738</td>\n",
       "      <td>M</td>\n",
       "    </tr>\n",
       "    <tr>\n",
       "      <th>1998-03-31</th>\n",
       "      <td>LBW</td>\n",
       "      <td>0.3470</td>\n",
       "      <td>-0.14</td>\n",
       "      <td>16864.0</td>\n",
       "      <td>0.15</td>\n",
       "      <td>25991000.0</td>\n",
       "      <td>28,000,000</td>\n",
       "      <td>9716000.000</td>\n",
       "      <td>S</td>\n",
       "      <td>2.675072</td>\n",
       "      <td>H</td>\n",
       "    </tr>\n",
       "  </tbody>\n",
       "</table>\n",
       "</div>"
      ],
      "text/plain": [
       "           Ticker   close  perc_change  close_wig  perc_change_wig  \\\n",
       "period                                                               \n",
       "1998-03-31    BRS  0.0826        -0.34    16864.0             0.15   \n",
       "1998-03-31    EKP  0.7490         0.51    16864.0             0.15   \n",
       "1998-03-31    RLP  6.5000        -0.01    16864.0             0.15   \n",
       "1998-03-31    WIK  4.9700        -0.07    16864.0             0.15   \n",
       "1998-03-31    LBW  0.3470        -0.14    16864.0             0.15   \n",
       "\n",
       "                Assets Number of shares  Market_value market_value_SB  \\\n",
       "period                                                                  \n",
       "1998-03-31  61452000.0       11,221,300    926879.380               S   \n",
       "1998-03-31  15667000.0        4,024,475   3014331.775               S   \n",
       "1998-03-31  72512000.0           976666   6348329.000               S   \n",
       "1998-03-31  23259000.0        1,891,825   9402370.250               S   \n",
       "1998-03-31  25991000.0       28,000,000   9716000.000               S   \n",
       "\n",
       "                  B/M B/M_LMH  \n",
       "period                         \n",
       "1998-03-31  66.299889       H  \n",
       "1998-03-31   5.197504       H  \n",
       "1998-03-31  11.422218       H  \n",
       "1998-03-31   2.473738       M  \n",
       "1998-03-31   2.675072       H  "
      ]
     },
     "execution_count": 8,
     "metadata": {},
     "output_type": "execute_result"
    }
   ],
   "source": [
    "df['B/M_LMH'] = pd.qcut(df['B/M'], q=3, labels = ['L', 'M','H'])\n",
    "df.head()"
   ]
  },
  {
   "cell_type": "markdown",
   "id": "d0097dab",
   "metadata": {},
   "source": [
    "Using portfolios of stock created we calculate average rate of retrun to obtain quarterly return series for each portfolio."
   ]
  },
  {
   "cell_type": "code",
   "execution_count": 9,
   "id": "05bfc1ae",
   "metadata": {},
   "outputs": [],
   "source": [
    "df_SL = df['perc_change'].loc[(df['market_value_SB'] == 'S')&(df['B/M_LMH'] == 'L')]\n",
    "df_SL = pd.DataFrame(data=df_SL)\n",
    "df_SL = df_SL.groupby(df_SL.index.date).mean()\n",
    "df_SM = df['perc_change'].loc[(df['market_value_SB'] == 'S')&(df['B/M_LMH'] == 'M')]\n",
    "df_SM = pd.DataFrame(data=df_SM)\n",
    "df_SM = df_SM.groupby(df_SM.index.date).mean()\n",
    "df_SH = df['perc_change'].loc[(df['market_value_SB'] == 'S')&(df['B/M_LMH'] == 'H')]\n",
    "df_SH = pd.DataFrame(data=df_SH)\n",
    "df_SH = df_SH.groupby(df_SH.index.date).mean()\n",
    "df_BH = df['perc_change'].loc[(df['market_value_SB'] == 'B')&(df['B/M_LMH'] == 'H')]\n",
    "df_BH = pd.DataFrame(data=df_BH)\n",
    "df_BH = df_BH.groupby(df_BH.index.date).mean()\n",
    "df_BM = df['perc_change'].loc[(df['market_value_SB'] == 'B')&(df['B/M_LMH'] == 'M')]\n",
    "df_BM = pd.DataFrame(data=df_BM)\n",
    "df_BM = df_BM.groupby(df_BM.index.date).mean()\n",
    "df_BL = df['perc_change'].loc[(df['market_value_SB'] == 'B')&(df['B/M_LMH'] == 'L')]\n",
    "df_BL = pd.DataFrame(data=df_BL)\n",
    "df_BL = df_BL.groupby(df_BL.index.date).mean()\n",
    "df_wig = df['perc_change_wig']\n",
    "df_wig = pd.DataFrame(data=df_wig)\n",
    "df_wig.rename(columns = {'perc_change_wig':'perc_change'}, inplace = True)\n",
    "df_wig = df_wig.groupby(df_wig.index.date).mean()"
   ]
  },
  {
   "cell_type": "code",
   "execution_count": 10,
   "id": "fa950a65",
   "metadata": {},
   "outputs": [
    {
     "data": {
      "text/html": [
       "<div>\n",
       "<style scoped>\n",
       "    .dataframe tbody tr th:only-of-type {\n",
       "        vertical-align: middle;\n",
       "    }\n",
       "\n",
       "    .dataframe tbody tr th {\n",
       "        vertical-align: top;\n",
       "    }\n",
       "\n",
       "    .dataframe thead th {\n",
       "        text-align: right;\n",
       "    }\n",
       "</style>\n",
       "<table border=\"1\" class=\"dataframe\">\n",
       "  <thead>\n",
       "    <tr style=\"text-align: right;\">\n",
       "      <th></th>\n",
       "      <th>SL</th>\n",
       "      <th>SM</th>\n",
       "      <th>SH</th>\n",
       "      <th>BH</th>\n",
       "      <th>BM</th>\n",
       "      <th>BL</th>\n",
       "      <th>wig</th>\n",
       "    </tr>\n",
       "  </thead>\n",
       "  <tbody>\n",
       "    <tr>\n",
       "      <th>1998-03-31</th>\n",
       "      <td>-0.035000</td>\n",
       "      <td>0.027000</td>\n",
       "      <td>0.057500</td>\n",
       "      <td>-0.070</td>\n",
       "      <td>0.033333</td>\n",
       "      <td>0.088571</td>\n",
       "      <td>0.15</td>\n",
       "    </tr>\n",
       "    <tr>\n",
       "      <th>1998-06-30</th>\n",
       "      <td>-0.256667</td>\n",
       "      <td>-0.244545</td>\n",
       "      <td>-0.349333</td>\n",
       "      <td>0.090</td>\n",
       "      <td>-0.096667</td>\n",
       "      <td>-0.134000</td>\n",
       "      <td>-0.07</td>\n",
       "    </tr>\n",
       "    <tr>\n",
       "      <th>1998-09-30</th>\n",
       "      <td>-0.510000</td>\n",
       "      <td>-0.080000</td>\n",
       "      <td>-0.396364</td>\n",
       "      <td>-0.210</td>\n",
       "      <td>-0.520000</td>\n",
       "      <td>-0.197500</td>\n",
       "      <td>-0.22</td>\n",
       "    </tr>\n",
       "    <tr>\n",
       "      <th>1998-12-31</th>\n",
       "      <td>0.180000</td>\n",
       "      <td>0.271667</td>\n",
       "      <td>0.030800</td>\n",
       "      <td>0.090</td>\n",
       "      <td>0.075000</td>\n",
       "      <td>0.325000</td>\n",
       "      <td>0.05</td>\n",
       "    </tr>\n",
       "    <tr>\n",
       "      <th>1999-03-31</th>\n",
       "      <td>0.068000</td>\n",
       "      <td>-0.002500</td>\n",
       "      <td>0.010312</td>\n",
       "      <td>0.225</td>\n",
       "      <td>0.008333</td>\n",
       "      <td>0.176667</td>\n",
       "      <td>0.10</td>\n",
       "    </tr>\n",
       "  </tbody>\n",
       "</table>\n",
       "</div>"
      ],
      "text/plain": [
       "                  SL        SM        SH     BH        BM        BL   wig\n",
       "1998-03-31 -0.035000  0.027000  0.057500 -0.070  0.033333  0.088571  0.15\n",
       "1998-06-30 -0.256667 -0.244545 -0.349333  0.090 -0.096667 -0.134000 -0.07\n",
       "1998-09-30 -0.510000 -0.080000 -0.396364 -0.210 -0.520000 -0.197500 -0.22\n",
       "1998-12-31  0.180000  0.271667  0.030800  0.090  0.075000  0.325000  0.05\n",
       "1999-03-31  0.068000 -0.002500  0.010312  0.225  0.008333  0.176667  0.10"
      ]
     },
     "execution_count": 10,
     "metadata": {},
     "output_type": "execute_result"
    }
   ],
   "source": [
    "merged_df_portf = pd.concat([df_SL, df_SM, df_SH, df_BH, df_BM, df_BL,df_wig], axis = 1)\n",
    "merged_df_portf.columns = ['SL','SM', 'SH', 'BH', 'BM', 'BL', 'wig']\n",
    "merged_df_portf.head()"
   ]
  },
  {
   "cell_type": "markdown",
   "id": "b18fcae1",
   "metadata": {},
   "source": [
    "Using standard methodology proposed orinally by Fama and French also used in the research we are trying to reproduce we create following factors"
   ]
  },
  {
   "cell_type": "markdown",
   "id": "159f3aa4",
   "metadata": {},
   "source": [
    "$\\Large SMB = 1/3(SH+SM+SL)-1/3(BH+BM+BL) $"
   ]
  },
  {
   "cell_type": "markdown",
   "id": "5a3118ad",
   "metadata": {},
   "source": [
    "$\\Large HML = 1/2(SH+BH)-1/2(SL+BL) $"
   ]
  },
  {
   "cell_type": "code",
   "execution_count": 11,
   "id": "2726240c",
   "metadata": {},
   "outputs": [],
   "source": [
    "SMB = 1/3*(df_SH+df_SM+df_SL)-1/3*(df_BH+df_BM+df_BL)\n",
    "HML = 0.5*(df_SH+df_BH)-0.5*(df_SL+df_BL)"
   ]
  },
  {
   "cell_type": "markdown",
   "id": "2ac4e599",
   "metadata": {},
   "source": [
    "The idea behind CAPM and FF3 is to estimate return in excess of risk-free rate of return, therefore we have to subtract risk-free rate of return from each of our dependent variable and also from market factor. We use German 10-year yield on government bond as a risk-free rate. Germany is perceived as the strongest economy within European Union with financial markets being the most developed ones, least volatile and one of the safest among whole European continent. Therefore, theoretically investors across Europe can easily invest in German 10-year government bond and earn rate of return which theoretically incurs no risk. After stock portfolios and factors creation is completed, all necessary series are adjusted by risk-free rate we obtain following series which are final and can directly be used for regression analysis:"
   ]
  },
  {
   "cell_type": "code",
   "execution_count": 12,
   "id": "3e07e03c",
   "metadata": {},
   "outputs": [],
   "source": [
    "df_SL_rf = df_SL - rf\n",
    "df_SM_rf = df_SM - rf\n",
    "df_SH_rf = df_SH - rf\n",
    "df_BH_rf = df_BH - rf\n",
    "df_BM_rf = df_BM - rf\n",
    "df_BL_rf = df_BL - rf\n",
    "df_wig_rf = df_wig - rf"
   ]
  },
  {
   "cell_type": "code",
   "execution_count": 13,
   "id": "9f1a094c",
   "metadata": {},
   "outputs": [],
   "source": [
    "df_SL_rf.rename(columns = {'perc_change':'SL'}, inplace = True)\n",
    "df_SM_rf.rename(columns = {'perc_change':'SM'}, inplace = True)\n",
    "df_SH_rf.rename(columns = {'perc_change':'SH'}, inplace = True)\n",
    "df_BH_rf.rename(columns = {'perc_change':'BH'}, inplace = True)\n",
    "df_BM_rf.rename(columns = {'perc_change':'BM'}, inplace = True)\n",
    "df_BL_rf.rename(columns = {'perc_change':'BL'}, inplace = True)\n",
    "rf.rename(columns = {'perc_change':'rf'}, inplace = True)\n",
    "HML.rename(columns = {'perc_change':'HML'}, inplace = True)\n",
    "SMB.rename(columns = {'perc_change':'SMB'}, inplace = True)\n",
    "df_wig_rf.rename(columns = {'perc_change':'wig'}, inplace = True)"
   ]
  },
  {
   "cell_type": "code",
   "execution_count": 14,
   "id": "e921c668",
   "metadata": {},
   "outputs": [
    {
     "data": {
      "text/html": [
       "<div>\n",
       "<style scoped>\n",
       "    .dataframe tbody tr th:only-of-type {\n",
       "        vertical-align: middle;\n",
       "    }\n",
       "\n",
       "    .dataframe tbody tr th {\n",
       "        vertical-align: top;\n",
       "    }\n",
       "\n",
       "    .dataframe thead th {\n",
       "        text-align: right;\n",
       "    }\n",
       "</style>\n",
       "<table border=\"1\" class=\"dataframe\">\n",
       "  <thead>\n",
       "    <tr style=\"text-align: right;\">\n",
       "      <th></th>\n",
       "      <th>SL</th>\n",
       "      <th>SM</th>\n",
       "      <th>SH</th>\n",
       "      <th>BH</th>\n",
       "      <th>BM</th>\n",
       "      <th>BL</th>\n",
       "      <th>HML</th>\n",
       "      <th>SMB</th>\n",
       "      <th>wig</th>\n",
       "    </tr>\n",
       "  </thead>\n",
       "  <tbody>\n",
       "    <tr>\n",
       "      <th>1998-03-31</th>\n",
       "      <td>-0.083884</td>\n",
       "      <td>-0.021884</td>\n",
       "      <td>0.008616</td>\n",
       "      <td>-0.118884</td>\n",
       "      <td>-0.015551</td>\n",
       "      <td>0.039687</td>\n",
       "      <td>-0.033036</td>\n",
       "      <td>-0.000802</td>\n",
       "      <td>0.101116</td>\n",
       "    </tr>\n",
       "    <tr>\n",
       "      <th>1998-06-30</th>\n",
       "      <td>-0.300570</td>\n",
       "      <td>-0.288449</td>\n",
       "      <td>-0.393236</td>\n",
       "      <td>0.046097</td>\n",
       "      <td>-0.140570</td>\n",
       "      <td>-0.177903</td>\n",
       "      <td>0.065667</td>\n",
       "      <td>-0.236626</td>\n",
       "      <td>-0.113903</td>\n",
       "    </tr>\n",
       "    <tr>\n",
       "      <th>1998-09-30</th>\n",
       "      <td>-0.550162</td>\n",
       "      <td>-0.120162</td>\n",
       "      <td>-0.436525</td>\n",
       "      <td>-0.250162</td>\n",
       "      <td>-0.560162</td>\n",
       "      <td>-0.237662</td>\n",
       "      <td>0.050568</td>\n",
       "      <td>-0.019621</td>\n",
       "      <td>-0.260162</td>\n",
       "    </tr>\n",
       "    <tr>\n",
       "      <th>1998-12-31</th>\n",
       "      <td>0.141371</td>\n",
       "      <td>0.233037</td>\n",
       "      <td>-0.007829</td>\n",
       "      <td>0.051371</td>\n",
       "      <td>0.036371</td>\n",
       "      <td>0.286371</td>\n",
       "      <td>-0.192100</td>\n",
       "      <td>-0.002511</td>\n",
       "      <td>0.011371</td>\n",
       "    </tr>\n",
       "    <tr>\n",
       "      <th>1999-03-31</th>\n",
       "      <td>0.027258</td>\n",
       "      <td>-0.043242</td>\n",
       "      <td>-0.030429</td>\n",
       "      <td>0.184258</td>\n",
       "      <td>-0.032409</td>\n",
       "      <td>0.135925</td>\n",
       "      <td>-0.004677</td>\n",
       "      <td>-0.111396</td>\n",
       "      <td>0.059258</td>\n",
       "    </tr>\n",
       "  </tbody>\n",
       "</table>\n",
       "</div>"
      ],
      "text/plain": [
       "                  SL        SM        SH        BH        BM        BL  \\\n",
       "1998-03-31 -0.083884 -0.021884  0.008616 -0.118884 -0.015551  0.039687   \n",
       "1998-06-30 -0.300570 -0.288449 -0.393236  0.046097 -0.140570 -0.177903   \n",
       "1998-09-30 -0.550162 -0.120162 -0.436525 -0.250162 -0.560162 -0.237662   \n",
       "1998-12-31  0.141371  0.233037 -0.007829  0.051371  0.036371  0.286371   \n",
       "1999-03-31  0.027258 -0.043242 -0.030429  0.184258 -0.032409  0.135925   \n",
       "\n",
       "                 HML       SMB       wig  \n",
       "1998-03-31 -0.033036 -0.000802  0.101116  \n",
       "1998-06-30  0.065667 -0.236626 -0.113903  \n",
       "1998-09-30  0.050568 -0.019621 -0.260162  \n",
       "1998-12-31 -0.192100 -0.002511  0.011371  \n",
       "1999-03-31 -0.004677 -0.111396  0.059258  "
      ]
     },
     "execution_count": 14,
     "metadata": {},
     "output_type": "execute_result"
    }
   ],
   "source": [
    "merged_df = pd.concat([df_SL_rf, df_SM_rf, df_SH_rf, df_BH_rf, df_BM_rf, df_BL_rf, HML, SMB, df_wig_rf], axis = 1)\n",
    "merged_df.dropna(axis=0, inplace = True)\n",
    "merged_df.head()"
   ]
  },
  {
   "cell_type": "code",
   "execution_count": 15,
   "id": "3aeb2c80",
   "metadata": {},
   "outputs": [
    {
     "data": {
      "text/html": [
       "<div>\n",
       "<style scoped>\n",
       "    .dataframe tbody tr th:only-of-type {\n",
       "        vertical-align: middle;\n",
       "    }\n",
       "\n",
       "    .dataframe tbody tr th {\n",
       "        vertical-align: top;\n",
       "    }\n",
       "\n",
       "    .dataframe thead th {\n",
       "        text-align: right;\n",
       "    }\n",
       "</style>\n",
       "<table border=\"1\" class=\"dataframe\">\n",
       "  <thead>\n",
       "    <tr style=\"text-align: right;\">\n",
       "      <th></th>\n",
       "      <th>SL</th>\n",
       "      <th>SM</th>\n",
       "      <th>SH</th>\n",
       "      <th>BH</th>\n",
       "      <th>BM</th>\n",
       "      <th>BL</th>\n",
       "      <th>HML</th>\n",
       "      <th>SMB</th>\n",
       "      <th>wig</th>\n",
       "    </tr>\n",
       "  </thead>\n",
       "  <tbody>\n",
       "    <tr>\n",
       "      <th>count</th>\n",
       "      <td>94.000000</td>\n",
       "      <td>94.000000</td>\n",
       "      <td>94.000000</td>\n",
       "      <td>94.000000</td>\n",
       "      <td>94.000000</td>\n",
       "      <td>94.000000</td>\n",
       "      <td>94.000000</td>\n",
       "      <td>94.000000</td>\n",
       "      <td>94.000000</td>\n",
       "    </tr>\n",
       "    <tr>\n",
       "      <th>mean</th>\n",
       "      <td>0.073297</td>\n",
       "      <td>0.031093</td>\n",
       "      <td>-0.013056</td>\n",
       "      <td>-0.015920</td>\n",
       "      <td>0.015309</td>\n",
       "      <td>0.064057</td>\n",
       "      <td>-0.083165</td>\n",
       "      <td>0.009296</td>\n",
       "      <td>-0.003156</td>\n",
       "    </tr>\n",
       "    <tr>\n",
       "      <th>std</th>\n",
       "      <td>0.342338</td>\n",
       "      <td>0.163879</td>\n",
       "      <td>0.178613</td>\n",
       "      <td>0.159015</td>\n",
       "      <td>0.146441</td>\n",
       "      <td>0.179085</td>\n",
       "      <td>0.187989</td>\n",
       "      <td>0.126664</td>\n",
       "      <td>0.112280</td>\n",
       "    </tr>\n",
       "    <tr>\n",
       "      <th>min</th>\n",
       "      <td>-0.550162</td>\n",
       "      <td>-0.369277</td>\n",
       "      <td>-0.436525</td>\n",
       "      <td>-0.471838</td>\n",
       "      <td>-0.560162</td>\n",
       "      <td>-0.291249</td>\n",
       "      <td>-1.125308</td>\n",
       "      <td>-0.293333</td>\n",
       "      <td>-0.300727</td>\n",
       "    </tr>\n",
       "    <tr>\n",
       "      <th>25%</th>\n",
       "      <td>-0.081068</td>\n",
       "      <td>-0.060607</td>\n",
       "      <td>-0.098860</td>\n",
       "      <td>-0.098672</td>\n",
       "      <td>-0.046632</td>\n",
       "      <td>-0.024661</td>\n",
       "      <td>-0.141320</td>\n",
       "      <td>-0.054552</td>\n",
       "      <td>-0.070288</td>\n",
       "    </tr>\n",
       "    <tr>\n",
       "      <th>50%</th>\n",
       "      <td>0.028538</td>\n",
       "      <td>0.011184</td>\n",
       "      <td>-0.027076</td>\n",
       "      <td>-0.038858</td>\n",
       "      <td>0.003379</td>\n",
       "      <td>0.041964</td>\n",
       "      <td>-0.059100</td>\n",
       "      <td>-0.011299</td>\n",
       "      <td>0.013244</td>\n",
       "    </tr>\n",
       "    <tr>\n",
       "      <th>75%</th>\n",
       "      <td>0.151316</td>\n",
       "      <td>0.101646</td>\n",
       "      <td>0.092657</td>\n",
       "      <td>0.089151</td>\n",
       "      <td>0.099103</td>\n",
       "      <td>0.144877</td>\n",
       "      <td>0.003571</td>\n",
       "      <td>0.042632</td>\n",
       "      <td>0.072226</td>\n",
       "    </tr>\n",
       "    <tr>\n",
       "      <th>max</th>\n",
       "      <td>1.609352</td>\n",
       "      <td>0.495347</td>\n",
       "      <td>0.456320</td>\n",
       "      <td>0.451364</td>\n",
       "      <td>0.369087</td>\n",
       "      <td>0.663871</td>\n",
       "      <td>0.312500</td>\n",
       "      <td>0.534574</td>\n",
       "      <td>0.236979</td>\n",
       "    </tr>\n",
       "  </tbody>\n",
       "</table>\n",
       "</div>"
      ],
      "text/plain": [
       "              SL         SM         SH         BH         BM         BL  \\\n",
       "count  94.000000  94.000000  94.000000  94.000000  94.000000  94.000000   \n",
       "mean    0.073297   0.031093  -0.013056  -0.015920   0.015309   0.064057   \n",
       "std     0.342338   0.163879   0.178613   0.159015   0.146441   0.179085   \n",
       "min    -0.550162  -0.369277  -0.436525  -0.471838  -0.560162  -0.291249   \n",
       "25%    -0.081068  -0.060607  -0.098860  -0.098672  -0.046632  -0.024661   \n",
       "50%     0.028538   0.011184  -0.027076  -0.038858   0.003379   0.041964   \n",
       "75%     0.151316   0.101646   0.092657   0.089151   0.099103   0.144877   \n",
       "max     1.609352   0.495347   0.456320   0.451364   0.369087   0.663871   \n",
       "\n",
       "             HML        SMB        wig  \n",
       "count  94.000000  94.000000  94.000000  \n",
       "mean   -0.083165   0.009296  -0.003156  \n",
       "std     0.187989   0.126664   0.112280  \n",
       "min    -1.125308  -0.293333  -0.300727  \n",
       "25%    -0.141320  -0.054552  -0.070288  \n",
       "50%    -0.059100  -0.011299   0.013244  \n",
       "75%     0.003571   0.042632   0.072226  \n",
       "max     0.312500   0.534574   0.236979  "
      ]
     },
     "execution_count": 15,
     "metadata": {},
     "output_type": "execute_result"
    }
   ],
   "source": [
    "merged_df.describe()"
   ]
  },
  {
   "cell_type": "markdown",
   "id": "c5d26574",
   "metadata": {},
   "source": [
    "**CHECKING STATIONARITY**\n",
    "\n",
    "Before applying regression analysis to the series, it is necessary to make sure that series are stationary. To confirm stationarity of series we will apply Augmented Dickey-Fuller (ADF) test. The Null hypothesis of ADF test states that series are non-stationary. After applying ADF test to each of our series we obtain below results:"
   ]
  },
  {
   "cell_type": "code",
   "execution_count": 16,
   "id": "5afb2bae",
   "metadata": {},
   "outputs": [
    {
     "name": "stdout",
     "output_type": "stream",
     "text": [
      "SL ADF p-value: 0.000000\n",
      "SM ADF p-value: 0.000037\n",
      "SH ADF p-value: 0.000126\n",
      "BH ADF p-value: 0.000000\n",
      "BM ADF p-value: 0.000000\n",
      "BL ADF p-value: 0.000000\n",
      "HML ADF p-value: 0.000000\n",
      "SMB ADF p-value: 0.000000\n",
      "wig ADF p-value: 0.000000\n"
     ]
    }
   ],
   "source": [
    "for (colname,colval) in merged_df.iteritems():\n",
    "    result = adfuller(colval.values)\n",
    "    print(colname, 'ADF p-value: %f' % result[1])"
   ]
  },
  {
   "cell_type": "markdown",
   "id": "381d310e",
   "metadata": {},
   "source": [
    "From the above it can be clearly concluded that Null hypothesis can be rejected for each series that is analysed and therefore, we can state that all series are stationary. Now, for each portfolio of stocks that was created we proceed with application of CAPM and FF3 and compare the results of the regression estimation. The method used for regression analysis is simple Ordinary Least Squared regression."
   ]
  },
  {
   "cell_type": "markdown",
   "id": "ede95256",
   "metadata": {},
   "source": [
    "**RUNNING CAPM AND FF3 REGRESSIONS**\n",
    "\n",
    "First, we apply CAPM model to SL portfolio which includes companies that are small in size and have low book to market stock ratio. Following results were obtained:"
   ]
  },
  {
   "cell_type": "code",
   "execution_count": 17,
   "id": "16f73d11",
   "metadata": {},
   "outputs": [
    {
     "name": "stdout",
     "output_type": "stream",
     "text": [
      "                            OLS Regression Results                            \n",
      "==============================================================================\n",
      "Dep. Variable:                     SL   R-squared:                       0.151\n",
      "Model:                            OLS   Adj. R-squared:                  0.142\n",
      "Method:                 Least Squares   F-statistic:                     16.39\n",
      "Date:                Wed, 01 Jun 2022   Prob (F-statistic):           0.000107\n",
      "Time:                        17:49:19   Log-Likelihood:                -24.407\n",
      "No. Observations:                  94   AIC:                             52.81\n",
      "Df Residuals:                      92   BIC:                             57.90\n",
      "Df Model:                           1                                         \n",
      "Covariance Type:            nonrobust                                         \n",
      "==============================================================================\n",
      "                 coef    std err          t      P>|t|      [0.025      0.975]\n",
      "------------------------------------------------------------------------------\n",
      "Intercept      0.0770      0.033      2.355      0.021       0.012       0.142\n",
      "wig            1.1857      0.293      4.049      0.000       0.604       1.767\n",
      "==============================================================================\n",
      "Omnibus:                       57.081   Durbin-Watson:                   1.275\n",
      "Prob(Omnibus):                  0.000   Jarque-Bera (JB):              236.535\n",
      "Skew:                           2.003   Prob(JB):                     4.34e-52\n",
      "Kurtosis:                       9.659   Cond. No.                         8.95\n",
      "==============================================================================\n",
      "\n",
      "Notes:\n",
      "[1] Standard Errors assume that the covariance matrix of the errors is correctly specified.\n"
     ]
    }
   ],
   "source": [
    "model_CAPM_SL = smf.ols(formula = 'SL ~ wig', data = merged_df).fit()\n",
    "print(model_CAPM_SL.summary())"
   ]
  },
  {
   "cell_type": "markdown",
   "id": "a57273c6",
   "metadata": {},
   "source": [
    "Market factor, which is presented by series called ‘wig’, is the only independent variable in CAPM model. As it can be seen market factor is statistically significant at 99% confidence level with p-value being equal to 0.000. Market factor can explain 14.2% of variation in SL portfolio returns as per adj. R-squared estimate. Intercept estimate is also statistically significant at 95% confidence level. From those results we can see that market factor alone can explain very small portion of variation in SL portfolio returns as is confirmed by small adj. R-squared estimate and significant intercept term. Next, we keep the same dependent variable which is returns on SL portfolio and apply FF3 model. Following results were obtained:"
   ]
  },
  {
   "cell_type": "code",
   "execution_count": 18,
   "id": "5e6de4ad",
   "metadata": {},
   "outputs": [
    {
     "name": "stdout",
     "output_type": "stream",
     "text": [
      "                            OLS Regression Results                            \n",
      "==============================================================================\n",
      "Dep. Variable:                     SL   R-squared:                       0.916\n",
      "Model:                            OLS   Adj. R-squared:                  0.913\n",
      "Method:                 Least Squares   F-statistic:                     327.1\n",
      "Date:                Wed, 01 Jun 2022   Prob (F-statistic):           2.87e-48\n",
      "Time:                        17:49:20   Log-Likelihood:                 84.301\n",
      "No. Observations:                  94   AIC:                            -160.6\n",
      "Df Residuals:                      90   BIC:                            -150.4\n",
      "Df Model:                           3                                         \n",
      "Covariance Type:            nonrobust                                         \n",
      "==============================================================================\n",
      "                 coef    std err          t      P>|t|      [0.025      0.975]\n",
      "------------------------------------------------------------------------------\n",
      "Intercept     -0.0036      0.012     -0.298      0.767      -0.028       0.020\n",
      "wig            1.0961      0.094     11.672      0.000       0.910       1.283\n",
      "HML           -0.8200      0.085     -9.648      0.000      -0.989      -0.651\n",
      "SMB            1.3088      0.126     10.348      0.000       1.058       1.560\n",
      "==============================================================================\n",
      "Omnibus:                        5.486   Durbin-Watson:                   2.149\n",
      "Prob(Omnibus):                  0.064   Jarque-Bera (JB):                4.927\n",
      "Skew:                           0.442   Prob(JB):                       0.0852\n",
      "Kurtosis:                       3.690   Cond. No.                         14.0\n",
      "==============================================================================\n",
      "\n",
      "Notes:\n",
      "[1] Standard Errors assume that the covariance matrix of the errors is correctly specified.\n"
     ]
    }
   ],
   "source": [
    "model_FF_SL = smf.ols(formula = 'SL ~ wig + HML + SMB', data = merged_df).fit()\n",
    "print(model_FF_SL.summary())"
   ]
  },
  {
   "cell_type": "markdown",
   "id": "18165972",
   "metadata": {},
   "source": [
    "As a reminder for FF3 model we add size (SMB) and value (HML) factors. First drastic difference is an improvement in adj. R-squared estimate. It increases from 14.2% to 91.3%. in another words FF3 model can explain 91.3% of SL portfolio variation of returns. Another improvement is that intercept becomes insignificant which means that most of variation in returns is explained purely by FF3 model factors. All independent variables are statistically significant at 99% level of confidence. SMB variable has positive coefficient confirms statement that SL portfolio contains small size companies. HML variable is negative which confirms that SL portfolio contains low book to value companies. The conclusion can be made that FF3 model significantly outperforms CAPM model when applied to SL portfolio.\n",
    "\tNext, we apply CAPM model to SM portfolio which includes companies that are small in size and have middle range book to market ratio. Following results were obtained:\n"
   ]
  },
  {
   "cell_type": "code",
   "execution_count": 19,
   "id": "5dcee3b2",
   "metadata": {
    "scrolled": true
   },
   "outputs": [
    {
     "name": "stdout",
     "output_type": "stream",
     "text": [
      "                            OLS Regression Results                            \n",
      "==============================================================================\n",
      "Dep. Variable:                     SM   R-squared:                       0.505\n",
      "Model:                            OLS   Adj. R-squared:                  0.499\n",
      "Method:                 Least Squares   F-statistic:                     93.81\n",
      "Date:                Wed, 01 Jun 2022   Prob (F-statistic):           1.05e-15\n",
      "Time:                        17:49:20   Log-Likelihood:                 70.171\n",
      "No. Observations:                  94   AIC:                            -136.3\n",
      "Df Residuals:                      92   BIC:                            -131.3\n",
      "Df Model:                           1                                         \n",
      "Covariance Type:            nonrobust                                         \n",
      "==============================================================================\n",
      "                 coef    std err          t      P>|t|      [0.025      0.975]\n",
      "------------------------------------------------------------------------------\n",
      "Intercept      0.0344      0.012      2.873      0.005       0.011       0.058\n",
      "wig            1.0371      0.107      9.686      0.000       0.824       1.250\n",
      "==============================================================================\n",
      "Omnibus:                        7.131   Durbin-Watson:                   1.854\n",
      "Prob(Omnibus):                  0.028   Jarque-Bera (JB):                6.827\n",
      "Skew:                           0.651   Prob(JB):                       0.0329\n",
      "Kurtosis:                       3.218   Cond. No.                         8.95\n",
      "==============================================================================\n",
      "\n",
      "Notes:\n",
      "[1] Standard Errors assume that the covariance matrix of the errors is correctly specified.\n"
     ]
    }
   ],
   "source": [
    "model_CAPM_SM = smf.ols(formula = 'SM ~ wig', data = merged_df).fit()\n",
    "print(model_CAPM_SM.summary())"
   ]
  },
  {
   "cell_type": "markdown",
   "id": "6cd5b775",
   "metadata": {},
   "source": [
    "As can be seen, both market factor and intercept term are statistically significant 99% confidence level. Adj. R-squared stays at almost 50% which means that CAPM model can explain almost half of the variation of returns of SM portfolio. Now FF3 model is applied and following results were obtained:"
   ]
  },
  {
   "cell_type": "code",
   "execution_count": 20,
   "id": "e0bf69fa",
   "metadata": {},
   "outputs": [
    {
     "name": "stdout",
     "output_type": "stream",
     "text": [
      "                            OLS Regression Results                            \n",
      "==============================================================================\n",
      "Dep. Variable:                     SM   R-squared:                       0.619\n",
      "Model:                            OLS   Adj. R-squared:                  0.606\n",
      "Method:                 Least Squares   F-statistic:                     48.66\n",
      "Date:                Wed, 01 Jun 2022   Prob (F-statistic):           8.75e-19\n",
      "Time:                        17:49:20   Log-Likelihood:                 82.440\n",
      "No. Observations:                  94   AIC:                            -156.9\n",
      "Df Residuals:                      90   BIC:                            -146.7\n",
      "Df Model:                           3                                         \n",
      "Covariance Type:            nonrobust                                         \n",
      "==============================================================================\n",
      "                 coef    std err          t      P>|t|      [0.025      0.975]\n",
      "------------------------------------------------------------------------------\n",
      "Intercept      0.0503      0.012      4.069      0.000       0.026       0.075\n",
      "wig            0.9775      0.096     10.205      0.000       0.787       1.168\n",
      "HML            0.2665      0.087      3.074      0.003       0.094       0.439\n",
      "SMB            0.6520      0.129      5.054      0.000       0.396       0.908\n",
      "==============================================================================\n",
      "Omnibus:                        6.745   Durbin-Watson:                   1.892\n",
      "Prob(Omnibus):                  0.034   Jarque-Bera (JB):                6.140\n",
      "Skew:                           0.569   Prob(JB):                       0.0464\n",
      "Kurtosis:                       3.520   Cond. No.                         14.0\n",
      "==============================================================================\n",
      "\n",
      "Notes:\n",
      "[1] Standard Errors assume that the covariance matrix of the errors is correctly specified.\n"
     ]
    }
   ],
   "source": [
    "model_FF_SM = smf.ols(formula = 'SM ~ wig + HML + SMB', data = merged_df).fit()\n",
    "print(model_FF_SM.summary())"
   ]
  },
  {
   "cell_type": "markdown",
   "id": "2c9c091a",
   "metadata": {},
   "source": [
    "We can observe that all the variables as well as intercept term are significant at 99% confidence level. However, given that intercept term stayed significant we can assume that FF3 factors don’t fully capture the variation of returns of SM portfolio. This also can be seen by relatively small improvement of adj. R-squared when comparing to the one obtained from CAPM model. Adj. R-squared improved by around 10% and reached 60.6% for FF3 model. Therefore, we can conclude that FF3 does add more value when compared to CAPM, however improvements are relatively marginal.\n",
    "\tThe last from group of portfolios that are small in size is SH portfolio which contains companies with high book to market stock ratio. When applying CAPM to SH portfolio we obtain following results:\n"
   ]
  },
  {
   "cell_type": "code",
   "execution_count": 21,
   "id": "2b48e000",
   "metadata": {},
   "outputs": [
    {
     "name": "stdout",
     "output_type": "stream",
     "text": [
      "                            OLS Regression Results                            \n",
      "==============================================================================\n",
      "Dep. Variable:                     SH   R-squared:                       0.578\n",
      "Model:                            OLS   Adj. R-squared:                  0.574\n",
      "Method:                 Least Squares   F-statistic:                     126.2\n",
      "Date:                Wed, 01 Jun 2022   Prob (F-statistic):           6.04e-19\n",
      "Time:                        17:49:21   Log-Likelihood:                 69.633\n",
      "No. Observations:                  94   AIC:                            -135.3\n",
      "Df Residuals:                      92   BIC:                            -130.2\n",
      "Df Model:                           1                                         \n",
      "Covariance Type:            nonrobust                                         \n",
      "==============================================================================\n",
      "                 coef    std err          t      P>|t|      [0.025      0.975]\n",
      "------------------------------------------------------------------------------\n",
      "Intercept     -0.0092      0.012     -0.768      0.445      -0.033       0.015\n",
      "wig            1.2098      0.108     11.234      0.000       0.996       1.424\n",
      "==============================================================================\n",
      "Omnibus:                        4.446   Durbin-Watson:                   1.514\n",
      "Prob(Omnibus):                  0.108   Jarque-Bera (JB):                4.306\n",
      "Skew:                           0.523   Prob(JB):                        0.116\n",
      "Kurtosis:                       2.918   Cond. No.                         8.95\n",
      "==============================================================================\n",
      "\n",
      "Notes:\n",
      "[1] Standard Errors assume that the covariance matrix of the errors is correctly specified.\n"
     ]
    }
   ],
   "source": [
    "model_CAPM_SH = smf.ols(formula = 'SH ~ wig', data = merged_df).fit()\n",
    "print(model_CAPM_SH.summary())"
   ]
  },
  {
   "cell_type": "markdown",
   "id": "27ece59c",
   "metadata": {},
   "source": [
    "Above results show that market factor is significant at 99% confidence level. On the other hand intercept term is insignificant. Overall CAPM model can explain 57.4% of SH portfolio variation of returns as can confirmed by adj. R-squared estimate. Next, we apply FF3 model to SH portfolio and obtain following results:"
   ]
  },
  {
   "cell_type": "code",
   "execution_count": 22,
   "id": "be656e6e",
   "metadata": {},
   "outputs": [
    {
     "name": "stdout",
     "output_type": "stream",
     "text": [
      "                            OLS Regression Results                            \n",
      "==============================================================================\n",
      "Dep. Variable:                     SH   R-squared:                       0.736\n",
      "Model:                            OLS   Adj. R-squared:                  0.727\n",
      "Method:                 Least Squares   F-statistic:                     83.64\n",
      "Date:                Wed, 01 Jun 2022   Prob (F-statistic):           6.15e-26\n",
      "Time:                        17:49:21   Log-Likelihood:                 91.638\n",
      "No. Observations:                  94   AIC:                            -175.3\n",
      "Df Residuals:                      90   BIC:                            -165.1\n",
      "Df Model:                           3                                         \n",
      "Covariance Type:            nonrobust                                         \n",
      "==============================================================================\n",
      "                 coef    std err          t      P>|t|      [0.025      0.975]\n",
      "------------------------------------------------------------------------------\n",
      "Intercept      0.0035      0.011      0.309      0.758      -0.019       0.026\n",
      "wig            1.1400      0.087     13.125      0.000       0.967       1.313\n",
      "HML            0.2428      0.079      3.088      0.003       0.087       0.399\n",
      "SMB            0.7822      0.117      6.687      0.000       0.550       1.015\n",
      "==============================================================================\n",
      "Omnibus:                        3.587   Durbin-Watson:                   1.621\n",
      "Prob(Omnibus):                  0.166   Jarque-Bera (JB):                3.566\n",
      "Skew:                           0.463   Prob(JB):                        0.168\n",
      "Kurtosis:                       2.767   Cond. No.                         14.0\n",
      "==============================================================================\n",
      "\n",
      "Notes:\n",
      "[1] Standard Errors assume that the covariance matrix of the errors is correctly specified.\n"
     ]
    }
   ],
   "source": [
    "model_FF_SH = smf.ols(formula = 'SH ~ wig + HML + SMB', data = merged_df).fit()\n",
    "print(model_FF_SH.summary())"
   ]
  },
  {
   "cell_type": "markdown",
   "id": "60cbd811",
   "metadata": {},
   "source": [
    "It can been noted that all 3 factors stay significant at 99% confidence level. Same as for CAPM intercept term stay insignificant. Adj. R-squared estimate increased by approximately 15% and reached 72.7% for FF3 model. Positive coefficient for SMB factor confirms the fact that SH portfolio contains small size companies. Also, positive coefficient for HML factor confirms that SH portfolio contains companies that have high book to market stock ratio. The conclusion can be made that FF3 model adds value when compared to CAPM for SH portfolio.  \n",
    "\tNow we move to estimation of CAPM and FF3 models for portfolios that include companies that big in size, namely focus will on following portfolios: BH, BM and BL.\n",
    "\tFirst. CAPM model will be applied for BH portfolio which contains companies that big in size and have high book to market stock ratio. After applying CAPM to BH portfolio, following results were obtained:\n"
   ]
  },
  {
   "cell_type": "code",
   "execution_count": 23,
   "id": "272ea50d",
   "metadata": {},
   "outputs": [
    {
     "name": "stdout",
     "output_type": "stream",
     "text": [
      "                            OLS Regression Results                            \n",
      "==============================================================================\n",
      "Dep. Variable:                     BH   R-squared:                       0.582\n",
      "Model:                            OLS   Adj. R-squared:                  0.578\n",
      "Method:                 Least Squares   F-statistic:                     128.1\n",
      "Date:                Wed, 01 Jun 2022   Prob (F-statistic):           4.02e-19\n",
      "Time:                        17:49:22   Log-Likelihood:                 80.970\n",
      "No. Observations:                  94   AIC:                            -157.9\n",
      "Df Residuals:                      92   BIC:                            -152.9\n",
      "Df Model:                           1                                         \n",
      "Covariance Type:            nonrobust                                         \n",
      "==============================================================================\n",
      "                 coef    std err          t      P>|t|      [0.025      0.975]\n",
      "------------------------------------------------------------------------------\n",
      "Intercept     -0.0125      0.011     -1.173      0.244      -0.034       0.009\n",
      "wig            1.0805      0.095     11.319      0.000       0.891       1.270\n",
      "==============================================================================\n",
      "Omnibus:                        6.212   Durbin-Watson:                   1.989\n",
      "Prob(Omnibus):                  0.045   Jarque-Bera (JB):               10.235\n",
      "Skew:                          -0.051   Prob(JB):                      0.00599\n",
      "Kurtosis:                       4.613   Cond. No.                         8.95\n",
      "==============================================================================\n",
      "\n",
      "Notes:\n",
      "[1] Standard Errors assume that the covariance matrix of the errors is correctly specified.\n"
     ]
    }
   ],
   "source": [
    "model_CAPM_BH = smf.ols(formula = 'BH ~ wig', data = merged_df).fit()\n",
    "print(model_CAPM_BH.summary())"
   ]
  },
  {
   "cell_type": "markdown",
   "id": "9e3bc9db",
   "metadata": {},
   "source": [
    "It can be observed that market factor is significant at 99% confidence level which intercept term being insignificant. Adj. R-squared of 57.8% means that more than half of SH portfolio variation of returns is explained by CAPM model. Further, following results for FF3 model were obtained:"
   ]
  },
  {
   "cell_type": "code",
   "execution_count": 24,
   "id": "58bd7cac",
   "metadata": {},
   "outputs": [
    {
     "name": "stdout",
     "output_type": "stream",
     "text": [
      "                            OLS Regression Results                            \n",
      "==============================================================================\n",
      "Dep. Variable:                     BH   R-squared:                       0.660\n",
      "Model:                            OLS   Adj. R-squared:                  0.649\n",
      "Method:                 Least Squares   F-statistic:                     58.32\n",
      "Date:                Wed, 01 Jun 2022   Prob (F-statistic):           4.93e-21\n",
      "Time:                        17:49:22   Log-Likelihood:                 90.715\n",
      "No. Observations:                  94   AIC:                            -173.4\n",
      "Df Residuals:                      90   BIC:                            -163.3\n",
      "Df Model:                           3                                         \n",
      "Covariance Type:            nonrobust                                         \n",
      "==============================================================================\n",
      "                 coef    std err          t      P>|t|      [0.025      0.975]\n",
      "------------------------------------------------------------------------------\n",
      "Intercept      0.0114      0.011      1.003      0.318      -0.011       0.034\n",
      "wig            1.0611      0.088     12.097      0.000       0.887       1.235\n",
      "HML            0.3048      0.079      3.840      0.000       0.147       0.463\n",
      "SMB            0.1536      0.118      1.300      0.197      -0.081       0.388\n",
      "==============================================================================\n",
      "Omnibus:                        6.087   Durbin-Watson:                   1.944\n",
      "Prob(Omnibus):                  0.048   Jarque-Bera (JB):                5.698\n",
      "Skew:                           0.457   Prob(JB):                       0.0579\n",
      "Kurtosis:                       3.787   Cond. No.                         14.0\n",
      "==============================================================================\n",
      "\n",
      "Notes:\n",
      "[1] Standard Errors assume that the covariance matrix of the errors is correctly specified.\n"
     ]
    }
   ],
   "source": [
    "model_FF_BH = smf.ols(formula = 'BH ~ wig + HML + SMB', data = merged_df).fit()\n",
    "print(model_FF_BH.summary())"
   ]
  },
  {
   "cell_type": "markdown",
   "id": "45f4f608",
   "metadata": {},
   "source": [
    "Interesting observation would be the fact that SMB factor is insignificant. Therefore, it means that SMB factor adds no value to explanation of variation in BH portfolio returns. On the other hand, both market and HML factor shows significance at 99% confidence level. FF3 manged to explain 64.9% of variation in returns of BH portfolio of stocks which can be seen by adj. R-squared, which is only 7% more than what was obtained from CAPM model estimates. Therefore, the conclusion can be made that FF3 adds little value when comparing to CAPM.\n",
    "Further we test CAPM model on BM portfolio. After running the regression we obtain following results:\n"
   ]
  },
  {
   "cell_type": "code",
   "execution_count": 25,
   "id": "61150a4c",
   "metadata": {},
   "outputs": [
    {
     "name": "stdout",
     "output_type": "stream",
     "text": [
      "                            OLS Regression Results                            \n",
      "==============================================================================\n",
      "Dep. Variable:                     BM   R-squared:                       0.642\n",
      "Model:                            OLS   Adj. R-squared:                  0.638\n",
      "Method:                 Least Squares   F-statistic:                     164.7\n",
      "Date:                Wed, 01 Jun 2022   Prob (F-statistic):           3.26e-22\n",
      "Time:                        17:49:22   Log-Likelihood:                 95.937\n",
      "No. Observations:                  94   AIC:                            -187.9\n",
      "Df Residuals:                      92   BIC:                            -182.8\n",
      "Df Model:                           1                                         \n",
      "Covariance Type:            nonrobust                                         \n",
      "==============================================================================\n",
      "                 coef    std err          t      P>|t|      [0.025      0.975]\n",
      "------------------------------------------------------------------------------\n",
      "Intercept      0.0186      0.009      2.046      0.044       0.001       0.037\n",
      "wig            1.0447      0.081     12.834      0.000       0.883       1.206\n",
      "==============================================================================\n",
      "Omnibus:                        4.415   Durbin-Watson:                   1.653\n",
      "Prob(Omnibus):                  0.110   Jarque-Bera (JB):                5.617\n",
      "Skew:                           0.060   Prob(JB):                       0.0603\n",
      "Kurtosis:                       4.191   Cond. No.                         8.95\n",
      "==============================================================================\n",
      "\n",
      "Notes:\n",
      "[1] Standard Errors assume that the covariance matrix of the errors is correctly specified.\n"
     ]
    }
   ],
   "source": [
    "model_CAPM_BM = smf.ols(formula = 'BM ~ wig', data = merged_df).fit()\n",
    "print(model_CAPM_BM.summary())"
   ]
  },
  {
   "cell_type": "markdown",
   "id": "adcbcddd",
   "metadata": {},
   "source": [
    "Market factor is significant at 99% confidence level. Intercept term is also significant at 95% confidence level. CAPM manged to explain 63.8% of variation in returns of BM portfolio which is confirmed by adj. R-squared estimate. Now, we can compare that to the results obtained from FF3 model. After applying FF3 model to BM portfolio following results are obtained:"
   ]
  },
  {
   "cell_type": "code",
   "execution_count": 26,
   "id": "df243b28",
   "metadata": {},
   "outputs": [
    {
     "name": "stdout",
     "output_type": "stream",
     "text": [
      "                            OLS Regression Results                            \n",
      "==============================================================================\n",
      "Dep. Variable:                     BM   R-squared:                       0.644\n",
      "Model:                            OLS   Adj. R-squared:                  0.632\n",
      "Method:                 Least Squares   F-statistic:                     54.31\n",
      "Date:                Wed, 01 Jun 2022   Prob (F-statistic):           3.94e-20\n",
      "Time:                        17:49:23   Log-Likelihood:                 96.275\n",
      "No. Observations:                  94   AIC:                            -184.6\n",
      "Df Residuals:                      90   BIC:                            -174.4\n",
      "Df Model:                           3                                         \n",
      "Covariance Type:            nonrobust                                         \n",
      "==============================================================================\n",
      "                 coef    std err          t      P>|t|      [0.025      0.975]\n",
      "------------------------------------------------------------------------------\n",
      "Intercept      0.0204      0.011      1.909      0.059      -0.001       0.042\n",
      "wig            1.0474      0.083     12.669      0.000       0.883       1.212\n",
      "HML            0.0167      0.075      0.224      0.824      -0.132       0.165\n",
      "SMB           -0.0377      0.111     -0.338      0.736      -0.259       0.184\n",
      "==============================================================================\n",
      "Omnibus:                        3.789   Durbin-Watson:                   1.655\n",
      "Prob(Omnibus):                  0.150   Jarque-Bera (JB):                4.407\n",
      "Skew:                           0.014   Prob(JB):                        0.110\n",
      "Kurtosis:                       4.060   Cond. No.                         14.0\n",
      "==============================================================================\n",
      "\n",
      "Notes:\n",
      "[1] Standard Errors assume that the covariance matrix of the errors is correctly specified.\n"
     ]
    }
   ],
   "source": [
    "model_FF_BM = smf.ols(formula = 'BM ~ wig + HML + SMB', data = merged_df).fit()\n",
    "print(model_FF_BM.summary())"
   ]
  },
  {
   "cell_type": "markdown",
   "id": "a046153d",
   "metadata": {},
   "source": [
    "By looking at the results it can be stated that this an example when FF3 deteriorates the results when compared with CAPM model results. First, among all factors only market factor stays significant which means that SMB and HML add no value at all when it comes to explaining the variation of BM portfolio returns. Also, adj. R-squared estimates slightly decreased to 63.2%. Therefore, the conclusion can be made that FF3 adds no value in explaining variation of BM portfolio returns.\n",
    "\tFinally, CAPM and FF3 will be applied to BL portfolio. After running CAPM for BL portfolio following results were obtained:\n"
   ]
  },
  {
   "cell_type": "code",
   "execution_count": 27,
   "id": "21cadad2",
   "metadata": {},
   "outputs": [
    {
     "name": "stdout",
     "output_type": "stream",
     "text": [
      "                            OLS Regression Results                            \n",
      "==============================================================================\n",
      "Dep. Variable:                     BL   R-squared:                       0.442\n",
      "Model:                            OLS   Adj. R-squared:                  0.436\n",
      "Method:                 Least Squares   F-statistic:                     72.84\n",
      "Date:                Wed, 01 Jun 2022   Prob (F-statistic):           2.75e-13\n",
      "Time:                        17:49:23   Log-Likelihood:                 56.202\n",
      "No. Observations:                  94   AIC:                            -108.4\n",
      "Df Residuals:                      92   BIC:                            -103.3\n",
      "Df Model:                           1                                         \n",
      "Covariance Type:            nonrobust                                         \n",
      "==============================================================================\n",
      "                 coef    std err          t      P>|t|      [0.025      0.975]\n",
      "------------------------------------------------------------------------------\n",
      "Intercept      0.0674      0.014      4.856      0.000       0.040       0.095\n",
      "wig            1.0602      0.124      8.535      0.000       0.814       1.307\n",
      "==============================================================================\n",
      "Omnibus:                       28.968   Durbin-Watson:                   1.365\n",
      "Prob(Omnibus):                  0.000   Jarque-Bera (JB):               46.678\n",
      "Skew:                           1.327   Prob(JB):                     7.31e-11\n",
      "Kurtosis:                       5.209   Cond. No.                         8.95\n",
      "==============================================================================\n",
      "\n",
      "Notes:\n",
      "[1] Standard Errors assume that the covariance matrix of the errors is correctly specified.\n"
     ]
    }
   ],
   "source": [
    "model_CAPM_BL = smf.ols(formula = 'BL ~ wig', data = merged_df).fit()\n",
    "print(model_CAPM_BL.summary())"
   ]
  },
  {
   "cell_type": "markdown",
   "id": "e9ef573e",
   "metadata": {},
   "source": [
    "Both market factor and intercept term are significant at 99% confidence level. Adj. R-squared stands at 43.6%. After running FF3 on BL portfolio we get following results:"
   ]
  },
  {
   "cell_type": "code",
   "execution_count": 28,
   "id": "f6298a34",
   "metadata": {},
   "outputs": [
    {
     "name": "stdout",
     "output_type": "stream",
     "text": [
      "                            OLS Regression Results                            \n",
      "==============================================================================\n",
      "Dep. Variable:                     BL   R-squared:                       0.688\n",
      "Model:                            OLS   Adj. R-squared:                  0.677\n",
      "Method:                 Least Squares   F-statistic:                     66.04\n",
      "Date:                Wed, 01 Jun 2022   Prob (F-statistic):           1.16e-22\n",
      "Time:                        17:49:24   Log-Likelihood:                 83.479\n",
      "No. Observations:                  94   AIC:                            -159.0\n",
      "Df Residuals:                      90   BIC:                            -148.8\n",
      "Df Model:                           3                                         \n",
      "Covariance Type:            nonrobust                                         \n",
      "==============================================================================\n",
      "                 coef    std err          t      P>|t|      [0.025      0.975]\n",
      "------------------------------------------------------------------------------\n",
      "Intercept      0.0184      0.012      1.507      0.135      -0.006       0.043\n",
      "wig            1.1050      0.095     11.664      0.000       0.917       1.293\n",
      "HML           -0.6323      0.086     -7.375      0.000      -0.803      -0.462\n",
      "SMB           -0.3730      0.128     -2.923      0.004      -0.626      -0.119\n",
      "==============================================================================\n",
      "Omnibus:                        5.258   Durbin-Watson:                   1.675\n",
      "Prob(Omnibus):                  0.072   Jarque-Bera (JB):                4.581\n",
      "Skew:                           0.504   Prob(JB):                        0.101\n",
      "Kurtosis:                       3.392   Cond. No.                         14.0\n",
      "==============================================================================\n",
      "\n",
      "Notes:\n",
      "[1] Standard Errors assume that the covariance matrix of the errors is correctly specified.\n"
     ]
    }
   ],
   "source": [
    "model_FF_BL = smf.ols(formula = 'BL ~ wig + HML + SMB', data = merged_df).fit()\n",
    "print(model_FF_BL.summary())"
   ]
  },
  {
   "cell_type": "markdown",
   "id": "7f1fb856",
   "metadata": {},
   "source": [
    "Important observation here would the fact that all three factors are significant at 99% confidence level. On the other hand, intercept term lost its significance. Adj. R-squared increased by more than 20% reaching 67.7% for FF3 model. The conclusion can be made that FF3 outperforms CAPM in capturing variation of BL portfolio returns. Negative coefficient for SMB factor confirms that BL portfolio contains companies that are big in size. Also, negative coefficient for HML factor confirms that BL portfolio contains companies that have low book to market stock ratio."
   ]
  },
  {
   "cell_type": "markdown",
   "id": "f055309f",
   "metadata": {},
   "source": [
    "**POLISH MARKET RESULTS**"
   ]
  },
  {
   "cell_type": "markdown",
   "id": "b56170d3",
   "metadata": {},
   "source": [
    "|      | **CAPM**  |  |        | **Fama and French** |  |   |   |          |  |\n",
    "|---------------|-----------|-----------|----------------|---------------------|-----------|-----------|------------|-----------------|------|\n",
    "| **Portfolio** | Intercept | Market    | Adj. R-squared | Intercept           | Market    | SMB       | HML        | Adj. R-squared  |      |\n",
    "| **S/L**       | 0.08     | 1.19*** | 0.14          | -0.01             | 1.09*** | 1.31*** | -0.82*** | 0.91           |      |\n",
    "| **S/M**       | 0.03**  | 1.04*** | 0.50         | 0.05***           | 0.98*** | 0.65*** | 0.27***  | 0.60           |      |\n",
    "| **S/H**       | -0.01   | 1.21*** | 0.57          | 0.01              | 1.14*** | 0.78*** | 0.24**   | 0.72           |      |\n",
    "| **B/L**       | 0.067*** | 1.06*** | 0.43          | 0.02              | 1.10*** | -0.37** | -0.63*** | 0.68          |      |\n",
    "| **B/M**       | 0.019    | 1.05*** | 0.64          | 0.02              | 1.05*** | -0.04   | 0.02     | 0.63           |      |\n",
    "| **B/H**       | -0.01   | 1.08*** | 0.58          | 0.01              | 1.06*** | 0.15    | 0.30***  | 0.65           |      |\n",
    "         |           |           |                |                     |           |           |            |                 |      | "
   ]
  },
  {
   "cell_type": "markdown",
   "id": "eaad5216",
   "metadata": {},
   "source": [
    "**VIETNAMESE MARKET RESULTS**"
   ]
  },
  {
   "cell_type": "markdown",
   "id": "da3d095c",
   "metadata": {},
   "source": [
    "|       | **CAPM**  |  |        | **Fama and French** |  |  |  |            |  |\n",
    "|---------------|-----------|----------|----------------|---------------------|----------|----------|----------|-----------------|------|\n",
    "| **Portfolio** | Intercept | Market   | Adj. R-squared | Intercept           | Market   | SMB      | HML      | Adj. R-squared  |      |\n",
    "| **S/L**       | 3.34      | 1.26***  | 0.74         | 1.04                | 1.20***  | 0.62***  | -0.78*** | 0.83          |      |\n",
    "| **S/M**       | 0.47      | 1.01***  | 0.74         | 0.82                | 1.05***  | 0.50***  | -0.08    | 0.78          |      |\n",
    "| **S/H**       | -1.16    | 0.99***  | 0.69         | 1.40                | 1.15***  | 0.61***  | 0.56***  | 0.80          |      |\n",
    "| **B/L**       | 4.27      | 1.30***  | 0.81         | 1.40                | 1.16***  | -0.47*** | -0.54*** | 0.87          |      |\n",
    "| **B/M**       | 0.61      | 1.03***  | 0.76         | 0.78                | 1.02***  | -0.32**  | 0.15     | 0.77          |      |\n",
    "| **B/H**       | 1.30       | 1.25***  | 0.80         | 1.06                | 1.21***  | -0.47*** | 0.09     | 0.81          |      |\n",
    "|       |           |          |                |                     |             \n"
   ]
  },
  {
   "cell_type": "markdown",
   "id": "9827981f",
   "metadata": {},
   "source": [
    "**CONCLUSION**"
   ]
  },
  {
   "cell_type": "markdown",
   "id": "561c00d7",
   "metadata": {},
   "source": [
    "Even though due to different data sets used for the original research and our project we couldn't fully numerically recreate the original findings, however, we obtained quite similar results from conceptual and statistical point of view. For both our results and original estimates FF3 model outperformed CAPM in terms of adjusted R-squared results for most of portfolios of stocks. Also, for both our results and original research FF3 produced the worst results for B/M portfolio with some factors being statistically insignificant and thus irrelevant for explanation of variation of portfolio stock returns. "
   ]
  }
 ],
 "metadata": {
  "kernelspec": {
   "display_name": "Python 3 (ipykernel)",
   "language": "python",
   "name": "python3"
  },
  "language_info": {
   "codemirror_mode": {
    "name": "ipython",
    "version": 3
   },
   "file_extension": ".py",
   "mimetype": "text/x-python",
   "name": "python",
   "nbconvert_exporter": "python",
   "pygments_lexer": "ipython3",
   "version": "3.9.7"
  }
 },
 "nbformat": 4,
 "nbformat_minor": 5
}
